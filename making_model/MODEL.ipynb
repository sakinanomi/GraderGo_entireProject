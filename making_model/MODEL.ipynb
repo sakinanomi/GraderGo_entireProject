{
 "cells": [
  {
   "cell_type": "code",
   "execution_count": 1,
   "id": "0643f014",
   "metadata": {},
   "outputs": [],
   "source": [
    "import pandas as pd\n",
    "import matplotlib.pyplot \n",
    "%matplotlib inline\n",
    "import numpy as np\n",
    "import seaborn as sns\n",
    "import spacy\n",
    "from collections import Counter\n",
    "\n",
    "from datetime import datetime"
   ]
  },
  {
   "cell_type": "markdown",
   "id": "aecc7262",
   "metadata": {},
   "source": [
    "### Loading the dataset\n",
    "\n",
    "Step1 : find the number of gramatical mistakes and count the number of sentences"
   ]
  },
  {
   "cell_type": "code",
   "execution_count": 2,
   "id": "635293fb",
   "metadata": {},
   "outputs": [
    {
     "data": {
      "text/html": [
       "<div>\n",
       "<style scoped>\n",
       "    .dataframe tbody tr th:only-of-type {\n",
       "        vertical-align: middle;\n",
       "    }\n",
       "\n",
       "    .dataframe tbody tr th {\n",
       "        vertical-align: top;\n",
       "    }\n",
       "\n",
       "    .dataframe thead th {\n",
       "        text-align: right;\n",
       "    }\n",
       "</style>\n",
       "<table border=\"1\" class=\"dataframe\">\n",
       "  <thead>\n",
       "    <tr style=\"text-align: right;\">\n",
       "      <th></th>\n",
       "      <th>index</th>\n",
       "      <th>essay_id</th>\n",
       "      <th>essay_set</th>\n",
       "      <th>essay</th>\n",
       "      <th>domain1_score</th>\n",
       "      <th>mistake_count</th>\n",
       "      <th>sentence_count</th>\n",
       "      <th>noun</th>\n",
       "      <th>verb</th>\n",
       "      <th>adj</th>\n",
       "      <th>punct</th>\n",
       "      <th>adv</th>\n",
       "      <th>pron</th>\n",
       "      <th>ner_count</th>\n",
       "      <th>stop_words_count</th>\n",
       "    </tr>\n",
       "  </thead>\n",
       "  <tbody>\n",
       "    <tr>\n",
       "      <th>0</th>\n",
       "      <td>0</td>\n",
       "      <td>1</td>\n",
       "      <td>1</td>\n",
       "      <td>Dear local newspaper, I think effects computer...</td>\n",
       "      <td>8.0</td>\n",
       "      <td>15</td>\n",
       "      <td>11</td>\n",
       "      <td>82</td>\n",
       "      <td>50</td>\n",
       "      <td>19</td>\n",
       "      <td>38</td>\n",
       "      <td>16</td>\n",
       "      <td>47</td>\n",
       "      <td>3</td>\n",
       "      <td>189</td>\n",
       "    </tr>\n",
       "    <tr>\n",
       "      <th>1</th>\n",
       "      <td>1</td>\n",
       "      <td>2</td>\n",
       "      <td>1</td>\n",
       "      <td>Dear @CAPS1 @CAPS2, I believe that using compu...</td>\n",
       "      <td>9.0</td>\n",
       "      <td>23</td>\n",
       "      <td>19</td>\n",
       "      <td>98</td>\n",
       "      <td>71</td>\n",
       "      <td>24</td>\n",
       "      <td>32</td>\n",
       "      <td>16</td>\n",
       "      <td>49</td>\n",
       "      <td>11</td>\n",
       "      <td>218</td>\n",
       "    </tr>\n",
       "    <tr>\n",
       "      <th>2</th>\n",
       "      <td>2</td>\n",
       "      <td>3</td>\n",
       "      <td>1</td>\n",
       "      <td>Dear, @CAPS1 @CAPS2 @CAPS3 More and more peopl...</td>\n",
       "      <td>7.0</td>\n",
       "      <td>17</td>\n",
       "      <td>15</td>\n",
       "      <td>72</td>\n",
       "      <td>38</td>\n",
       "      <td>19</td>\n",
       "      <td>23</td>\n",
       "      <td>13</td>\n",
       "      <td>25</td>\n",
       "      <td>4</td>\n",
       "      <td>151</td>\n",
       "    </tr>\n",
       "    <tr>\n",
       "      <th>3</th>\n",
       "      <td>3</td>\n",
       "      <td>4</td>\n",
       "      <td>1</td>\n",
       "      <td>Dear Local Newspaper, @CAPS1 I have found that...</td>\n",
       "      <td>10.0</td>\n",
       "      <td>27</td>\n",
       "      <td>25</td>\n",
       "      <td>136</td>\n",
       "      <td>72</td>\n",
       "      <td>39</td>\n",
       "      <td>43</td>\n",
       "      <td>23</td>\n",
       "      <td>31</td>\n",
       "      <td>15</td>\n",
       "      <td>246</td>\n",
       "    </tr>\n",
       "    <tr>\n",
       "      <th>4</th>\n",
       "      <td>4</td>\n",
       "      <td>5</td>\n",
       "      <td>1</td>\n",
       "      <td>Dear @LOCATION1, I know having computers has a...</td>\n",
       "      <td>8.0</td>\n",
       "      <td>17</td>\n",
       "      <td>31</td>\n",
       "      <td>107</td>\n",
       "      <td>61</td>\n",
       "      <td>28</td>\n",
       "      <td>43</td>\n",
       "      <td>35</td>\n",
       "      <td>41</td>\n",
       "      <td>6</td>\n",
       "      <td>266</td>\n",
       "    </tr>\n",
       "  </tbody>\n",
       "</table>\n",
       "</div>"
      ],
      "text/plain": [
       "   index  essay_id  essay_set  \\\n",
       "0      0         1          1   \n",
       "1      1         2          1   \n",
       "2      2         3          1   \n",
       "3      3         4          1   \n",
       "4      4         5          1   \n",
       "\n",
       "                                               essay  domain1_score  \\\n",
       "0  Dear local newspaper, I think effects computer...            8.0   \n",
       "1  Dear @CAPS1 @CAPS2, I believe that using compu...            9.0   \n",
       "2  Dear, @CAPS1 @CAPS2 @CAPS3 More and more peopl...            7.0   \n",
       "3  Dear Local Newspaper, @CAPS1 I have found that...           10.0   \n",
       "4  Dear @LOCATION1, I know having computers has a...            8.0   \n",
       "\n",
       "   mistake_count  sentence_count  noun  verb  adj  punct  adv  pron  \\\n",
       "0             15              11    82    50   19     38   16    47   \n",
       "1             23              19    98    71   24     32   16    49   \n",
       "2             17              15    72    38   19     23   13    25   \n",
       "3             27              25   136    72   39     43   23    31   \n",
       "4             17              31   107    61   28     43   35    41   \n",
       "\n",
       "   ner_count  stop_words_count  \n",
       "0          3               189  \n",
       "1         11               218  \n",
       "2          4               151  \n",
       "3         15               246  \n",
       "4          6               266  "
      ]
     },
     "execution_count": 2,
     "metadata": {},
     "output_type": "execute_result"
    }
   ],
   "source": [
    "df=pd.read_pickle('final.pickle')\n",
    "df.head()"
   ]
  },
  {
   "cell_type": "code",
   "execution_count": 9,
   "id": "e8e5dda9",
   "metadata": {},
   "outputs": [
    {
     "data": {
      "text/plain": [
       "\"Dear @CAPS1 @CAPS2, I believe that using computers will benefit us in many ways like talking and becoming friends will others through websites like facebook and mysace. Using computers can help us find coordibates, locations, and able ourselfs to millions of information. Also computers will benefit us by helping with jobs as in planning a house plan and typing a @NUM1 page report for one of our jobs in less than writing it. Now lets go into the wonder world of technology. Using a computer will help us in life by talking or making friends on line. Many people have myspace, facebooks, aim, these all benefit us by having conversations with one another. Many people believe computers are bad but how can you make friends if you can never talk to them? I am very fortunate for having a computer that can help with not only school work but my social life and how I make friends. Computers help us with finding our locations, coordibates and millions of information online. If we didn't go on the internet a lot we wouldn't know how to go onto websites that @MONTH1 help us with locations and coordinates like @LOCATION1. Would you rather use a computer or be in @LOCATION3. When your supposed to be vacationing in @LOCATION2. Million of information is found on the internet. You can as almost every question and a computer will have it. Would you rather easily draw up a house plan on the computers or take @NUM1 hours doing one by hand with ugly erazer marks all over it, you are garrenteed that to find a job with a drawing like that. Also when appling for a job many workers must write very long papers like a @NUM3 word essay on why this job fits you the most, and many people I know don't like writing @NUM3 words non-stopp for hours when it could take them I hav an a computer. That is why computers we needed a lot now adays. I hope this essay has impacted your descion on computers because they are great machines to work with. The other day I showed my mom how to use a computer and she said it was the greatest invention sense sliced bread! Now go out and buy a computer to help you chat online with friends, find locations and millions of information on one click of the button and help your self with getting a job with neat, prepared, printed work that your boss will love.\""
      ]
     },
     "execution_count": 9,
     "metadata": {},
     "output_type": "execute_result"
    }
   ],
   "source": [
    "df['essay'][1]"
   ]
  },
  {
   "cell_type": "code",
   "execution_count": 10,
   "id": "505f227d",
   "metadata": {
    "scrolled": true
   },
   "outputs": [
    {
     "data": {
      "text/plain": [
       "9.0"
      ]
     },
     "execution_count": 10,
     "metadata": {},
     "output_type": "execute_result"
    }
   ],
   "source": [
    "df['domain1_score'][1]"
   ]
  },
  {
   "cell_type": "code",
   "execution_count": null,
   "id": "8bc3519d",
   "metadata": {},
   "outputs": [],
   "source": []
  },
  {
   "cell_type": "code",
   "execution_count": 8,
   "id": "366d74ec",
   "metadata": {
    "scrolled": true
   },
   "outputs": [
    {
     "data": {
      "text/html": [
       "<div>\n",
       "<style scoped>\n",
       "    .dataframe tbody tr th:only-of-type {\n",
       "        vertical-align: middle;\n",
       "    }\n",
       "\n",
       "    .dataframe tbody tr th {\n",
       "        vertical-align: top;\n",
       "    }\n",
       "\n",
       "    .dataframe thead th {\n",
       "        text-align: right;\n",
       "    }\n",
       "</style>\n",
       "<table border=\"1\" class=\"dataframe\">\n",
       "  <thead>\n",
       "    <tr style=\"text-align: right;\">\n",
       "      <th></th>\n",
       "      <th>domain1_score</th>\n",
       "      <th>mistake_count</th>\n",
       "      <th>sentence_count</th>\n",
       "      <th>noun</th>\n",
       "      <th>verb</th>\n",
       "      <th>adj</th>\n",
       "      <th>punct</th>\n",
       "      <th>adv</th>\n",
       "      <th>pron</th>\n",
       "      <th>ner_count</th>\n",
       "    </tr>\n",
       "  </thead>\n",
       "  <tbody>\n",
       "    <tr>\n",
       "      <th>0</th>\n",
       "      <td>8.0</td>\n",
       "      <td>15</td>\n",
       "      <td>11</td>\n",
       "      <td>82</td>\n",
       "      <td>50</td>\n",
       "      <td>19</td>\n",
       "      <td>38</td>\n",
       "      <td>16</td>\n",
       "      <td>47</td>\n",
       "      <td>3</td>\n",
       "    </tr>\n",
       "    <tr>\n",
       "      <th>1</th>\n",
       "      <td>9.0</td>\n",
       "      <td>23</td>\n",
       "      <td>19</td>\n",
       "      <td>98</td>\n",
       "      <td>71</td>\n",
       "      <td>24</td>\n",
       "      <td>32</td>\n",
       "      <td>16</td>\n",
       "      <td>49</td>\n",
       "      <td>11</td>\n",
       "    </tr>\n",
       "    <tr>\n",
       "      <th>2</th>\n",
       "      <td>7.0</td>\n",
       "      <td>17</td>\n",
       "      <td>15</td>\n",
       "      <td>72</td>\n",
       "      <td>38</td>\n",
       "      <td>19</td>\n",
       "      <td>23</td>\n",
       "      <td>13</td>\n",
       "      <td>25</td>\n",
       "      <td>4</td>\n",
       "    </tr>\n",
       "    <tr>\n",
       "      <th>3</th>\n",
       "      <td>10.0</td>\n",
       "      <td>27</td>\n",
       "      <td>25</td>\n",
       "      <td>136</td>\n",
       "      <td>72</td>\n",
       "      <td>39</td>\n",
       "      <td>43</td>\n",
       "      <td>23</td>\n",
       "      <td>31</td>\n",
       "      <td>15</td>\n",
       "    </tr>\n",
       "    <tr>\n",
       "      <th>4</th>\n",
       "      <td>8.0</td>\n",
       "      <td>17</td>\n",
       "      <td>31</td>\n",
       "      <td>107</td>\n",
       "      <td>61</td>\n",
       "      <td>28</td>\n",
       "      <td>43</td>\n",
       "      <td>35</td>\n",
       "      <td>41</td>\n",
       "      <td>6</td>\n",
       "    </tr>\n",
       "  </tbody>\n",
       "</table>\n",
       "</div>"
      ],
      "text/plain": [
       "   domain1_score  mistake_count  sentence_count  noun  verb  adj  punct  adv  \\\n",
       "0            8.0             15              11    82    50   19     38   16   \n",
       "1            9.0             23              19    98    71   24     32   16   \n",
       "2            7.0             17              15    72    38   19     23   13   \n",
       "3           10.0             27              25   136    72   39     43   23   \n",
       "4            8.0             17              31   107    61   28     43   35   \n",
       "\n",
       "   pron  ner_count  \n",
       "0    47          3  \n",
       "1    49         11  \n",
       "2    25          4  \n",
       "3    31         15  \n",
       "4    41          6  "
      ]
     },
     "execution_count": 8,
     "metadata": {},
     "output_type": "execute_result"
    }
   ],
   "source": [
    "df=pd.read_pickle('final.pickle')\n",
    "df.drop(['stop_words_count','essay','essay_set','essay_id','index'],axis='columns',inplace=True)\n",
    "df.head()\n"
   ]
  },
  {
   "cell_type": "markdown",
   "id": "92030904",
   "metadata": {},
   "source": [
    "Step 2: Do pos tagging and count POS"
   ]
  },
  {
   "cell_type": "code",
   "execution_count": 9,
   "id": "e3be7ca0",
   "metadata": {},
   "outputs": [],
   "source": [
    "feature=df.drop(['domain1_score'],axis='columns')\n"
   ]
  },
  {
   "cell_type": "code",
   "execution_count": 10,
   "id": "55cb1601",
   "metadata": {
    "scrolled": true
   },
   "outputs": [
    {
     "data": {
      "text/html": [
       "<div>\n",
       "<style scoped>\n",
       "    .dataframe tbody tr th:only-of-type {\n",
       "        vertical-align: middle;\n",
       "    }\n",
       "\n",
       "    .dataframe tbody tr th {\n",
       "        vertical-align: top;\n",
       "    }\n",
       "\n",
       "    .dataframe thead th {\n",
       "        text-align: right;\n",
       "    }\n",
       "</style>\n",
       "<table border=\"1\" class=\"dataframe\">\n",
       "  <thead>\n",
       "    <tr style=\"text-align: right;\">\n",
       "      <th></th>\n",
       "      <th>mistake_count</th>\n",
       "      <th>sentence_count</th>\n",
       "      <th>noun</th>\n",
       "      <th>verb</th>\n",
       "      <th>adj</th>\n",
       "      <th>punct</th>\n",
       "      <th>adv</th>\n",
       "      <th>pron</th>\n",
       "      <th>ner_count</th>\n",
       "    </tr>\n",
       "  </thead>\n",
       "  <tbody>\n",
       "    <tr>\n",
       "      <th>0</th>\n",
       "      <td>15</td>\n",
       "      <td>11</td>\n",
       "      <td>82</td>\n",
       "      <td>50</td>\n",
       "      <td>19</td>\n",
       "      <td>38</td>\n",
       "      <td>16</td>\n",
       "      <td>47</td>\n",
       "      <td>3</td>\n",
       "    </tr>\n",
       "    <tr>\n",
       "      <th>1</th>\n",
       "      <td>23</td>\n",
       "      <td>19</td>\n",
       "      <td>98</td>\n",
       "      <td>71</td>\n",
       "      <td>24</td>\n",
       "      <td>32</td>\n",
       "      <td>16</td>\n",
       "      <td>49</td>\n",
       "      <td>11</td>\n",
       "    </tr>\n",
       "    <tr>\n",
       "      <th>2</th>\n",
       "      <td>17</td>\n",
       "      <td>15</td>\n",
       "      <td>72</td>\n",
       "      <td>38</td>\n",
       "      <td>19</td>\n",
       "      <td>23</td>\n",
       "      <td>13</td>\n",
       "      <td>25</td>\n",
       "      <td>4</td>\n",
       "    </tr>\n",
       "    <tr>\n",
       "      <th>3</th>\n",
       "      <td>27</td>\n",
       "      <td>25</td>\n",
       "      <td>136</td>\n",
       "      <td>72</td>\n",
       "      <td>39</td>\n",
       "      <td>43</td>\n",
       "      <td>23</td>\n",
       "      <td>31</td>\n",
       "      <td>15</td>\n",
       "    </tr>\n",
       "    <tr>\n",
       "      <th>4</th>\n",
       "      <td>17</td>\n",
       "      <td>31</td>\n",
       "      <td>107</td>\n",
       "      <td>61</td>\n",
       "      <td>28</td>\n",
       "      <td>43</td>\n",
       "      <td>35</td>\n",
       "      <td>41</td>\n",
       "      <td>6</td>\n",
       "    </tr>\n",
       "  </tbody>\n",
       "</table>\n",
       "</div>"
      ],
      "text/plain": [
       "   mistake_count  sentence_count  noun  verb  adj  punct  adv  pron  ner_count\n",
       "0             15              11    82    50   19     38   16    47          3\n",
       "1             23              19    98    71   24     32   16    49         11\n",
       "2             17              15    72    38   19     23   13    25          4\n",
       "3             27              25   136    72   39     43   23    31         15\n",
       "4             17              31   107    61   28     43   35    41          6"
      ]
     },
     "execution_count": 10,
     "metadata": {},
     "output_type": "execute_result"
    }
   ],
   "source": [
    "feature.head()"
   ]
  },
  {
   "cell_type": "code",
   "execution_count": 32,
   "id": "8712624b",
   "metadata": {},
   "outputs": [
    {
     "data": {
      "text/plain": [
       "Index(['mistake_count', 'sentence_count', 'noun', 'verb', 'adj', 'punct',\n",
       "       'adv', 'pron', 'ner_count'],\n",
       "      dtype='object')"
      ]
     },
     "execution_count": 32,
     "metadata": {},
     "output_type": "execute_result"
    }
   ],
   "source": [
    "feature.columns"
   ]
  },
  {
   "cell_type": "code",
   "execution_count": 11,
   "id": "25a7328b",
   "metadata": {},
   "outputs": [
    {
     "data": {
      "text/plain": [
       "0    6\n",
       "1    7\n",
       "2    5\n",
       "3    8\n",
       "4    6\n",
       "Name: final_score, dtype: int64"
      ]
     },
     "execution_count": 11,
     "metadata": {},
     "output_type": "execute_result"
    }
   ],
   "source": [
    "target=pd.read_pickle('target.pickle')\n",
    "target.head()"
   ]
  },
  {
   "cell_type": "code",
   "execution_count": 13,
   "id": "693273ef",
   "metadata": {},
   "outputs": [
    {
     "data": {
      "text/plain": [
       "array([ 6,  7,  5,  8,  4, 10,  2,  1,  9,  0,  3], dtype=int64)"
      ]
     },
     "execution_count": 13,
     "metadata": {},
     "output_type": "execute_result"
    }
   ],
   "source": [
    "target.unique()"
   ]
  },
  {
   "cell_type": "code",
   "execution_count": 14,
   "id": "7530d35e",
   "metadata": {},
   "outputs": [],
   "source": [
    "from sklearn import preprocessing"
   ]
  },
  {
   "cell_type": "code",
   "execution_count": 17,
   "id": "edd7aa47",
   "metadata": {},
   "outputs": [
    {
     "data": {
      "text/html": [
       "<div>\n",
       "<style scoped>\n",
       "    .dataframe tbody tr th:only-of-type {\n",
       "        vertical-align: middle;\n",
       "    }\n",
       "\n",
       "    .dataframe tbody tr th {\n",
       "        vertical-align: top;\n",
       "    }\n",
       "\n",
       "    .dataframe thead th {\n",
       "        text-align: right;\n",
       "    }\n",
       "</style>\n",
       "<table border=\"1\" class=\"dataframe\">\n",
       "  <thead>\n",
       "    <tr style=\"text-align: right;\">\n",
       "      <th></th>\n",
       "      <th>mistake_count</th>\n",
       "      <th>sentence_count</th>\n",
       "      <th>noun</th>\n",
       "      <th>verb</th>\n",
       "      <th>adj</th>\n",
       "      <th>punct</th>\n",
       "      <th>adv</th>\n",
       "      <th>pron</th>\n",
       "      <th>ner_count</th>\n",
       "    </tr>\n",
       "  </thead>\n",
       "  <tbody>\n",
       "    <tr>\n",
       "      <th>count</th>\n",
       "      <td>12977.000000</td>\n",
       "      <td>12977.000000</td>\n",
       "      <td>12977.000000</td>\n",
       "      <td>12977.000000</td>\n",
       "      <td>12977.000000</td>\n",
       "      <td>12977.000000</td>\n",
       "      <td>12977.000000</td>\n",
       "      <td>12977.000000</td>\n",
       "      <td>12977.000000</td>\n",
       "    </tr>\n",
       "    <tr>\n",
       "      <th>mean</th>\n",
       "      <td>9.710950</td>\n",
       "      <td>13.517223</td>\n",
       "      <td>43.780920</td>\n",
       "      <td>33.127302</td>\n",
       "      <td>14.201819</td>\n",
       "      <td>23.901133</td>\n",
       "      <td>12.530400</td>\n",
       "      <td>29.227171</td>\n",
       "      <td>5.220313</td>\n",
       "    </tr>\n",
       "    <tr>\n",
       "      <th>std</th>\n",
       "      <td>10.209801</td>\n",
       "      <td>11.810765</td>\n",
       "      <td>34.061827</td>\n",
       "      <td>27.968316</td>\n",
       "      <td>12.428800</td>\n",
       "      <td>21.286509</td>\n",
       "      <td>12.179454</td>\n",
       "      <td>28.774550</td>\n",
       "      <td>5.614951</td>\n",
       "    </tr>\n",
       "    <tr>\n",
       "      <th>min</th>\n",
       "      <td>0.000000</td>\n",
       "      <td>1.000000</td>\n",
       "      <td>0.000000</td>\n",
       "      <td>0.000000</td>\n",
       "      <td>0.000000</td>\n",
       "      <td>0.000000</td>\n",
       "      <td>0.000000</td>\n",
       "      <td>0.000000</td>\n",
       "      <td>0.000000</td>\n",
       "    </tr>\n",
       "    <tr>\n",
       "      <th>25%</th>\n",
       "      <td>3.000000</td>\n",
       "      <td>6.000000</td>\n",
       "      <td>19.000000</td>\n",
       "      <td>14.000000</td>\n",
       "      <td>5.000000</td>\n",
       "      <td>9.000000</td>\n",
       "      <td>4.000000</td>\n",
       "      <td>9.000000</td>\n",
       "      <td>1.000000</td>\n",
       "    </tr>\n",
       "    <tr>\n",
       "      <th>50%</th>\n",
       "      <td>6.000000</td>\n",
       "      <td>10.000000</td>\n",
       "      <td>33.000000</td>\n",
       "      <td>23.000000</td>\n",
       "      <td>11.000000</td>\n",
       "      <td>18.000000</td>\n",
       "      <td>9.000000</td>\n",
       "      <td>19.000000</td>\n",
       "      <td>4.000000</td>\n",
       "    </tr>\n",
       "    <tr>\n",
       "      <th>75%</th>\n",
       "      <td>13.000000</td>\n",
       "      <td>18.000000</td>\n",
       "      <td>60.000000</td>\n",
       "      <td>47.000000</td>\n",
       "      <td>19.000000</td>\n",
       "      <td>32.000000</td>\n",
       "      <td>17.000000</td>\n",
       "      <td>41.000000</td>\n",
       "      <td>7.000000</td>\n",
       "    </tr>\n",
       "    <tr>\n",
       "      <th>max</th>\n",
       "      <td>120.000000</td>\n",
       "      <td>643.000000</td>\n",
       "      <td>264.000000</td>\n",
       "      <td>184.000000</td>\n",
       "      <td>86.000000</td>\n",
       "      <td>213.000000</td>\n",
       "      <td>89.000000</td>\n",
       "      <td>223.000000</td>\n",
       "      <td>67.000000</td>\n",
       "    </tr>\n",
       "  </tbody>\n",
       "</table>\n",
       "</div>"
      ],
      "text/plain": [
       "       mistake_count  sentence_count          noun          verb  \\\n",
       "count   12977.000000    12977.000000  12977.000000  12977.000000   \n",
       "mean        9.710950       13.517223     43.780920     33.127302   \n",
       "std        10.209801       11.810765     34.061827     27.968316   \n",
       "min         0.000000        1.000000      0.000000      0.000000   \n",
       "25%         3.000000        6.000000     19.000000     14.000000   \n",
       "50%         6.000000       10.000000     33.000000     23.000000   \n",
       "75%        13.000000       18.000000     60.000000     47.000000   \n",
       "max       120.000000      643.000000    264.000000    184.000000   \n",
       "\n",
       "                adj         punct           adv          pron     ner_count  \n",
       "count  12977.000000  12977.000000  12977.000000  12977.000000  12977.000000  \n",
       "mean      14.201819     23.901133     12.530400     29.227171      5.220313  \n",
       "std       12.428800     21.286509     12.179454     28.774550      5.614951  \n",
       "min        0.000000      0.000000      0.000000      0.000000      0.000000  \n",
       "25%        5.000000      9.000000      4.000000      9.000000      1.000000  \n",
       "50%       11.000000     18.000000      9.000000     19.000000      4.000000  \n",
       "75%       19.000000     32.000000     17.000000     41.000000      7.000000  \n",
       "max       86.000000    213.000000     89.000000    223.000000     67.000000  "
      ]
     },
     "execution_count": 17,
     "metadata": {},
     "output_type": "execute_result"
    }
   ],
   "source": [
    "feature.describe()"
   ]
  },
  {
   "cell_type": "code",
   "execution_count": 18,
   "id": "aea1a38b",
   "metadata": {
    "scrolled": true
   },
   "outputs": [],
   "source": [
    "minmax=preprocessing.MinMaxScaler()\n",
    "feat_minmax=pd.DataFrame(minmax.fit_transform(feature),columns=[feature.columns])"
   ]
  },
  {
   "cell_type": "code",
   "execution_count": 19,
   "id": "373dfc6f",
   "metadata": {},
   "outputs": [
    {
     "data": {
      "text/html": [
       "<div>\n",
       "<style scoped>\n",
       "    .dataframe tbody tr th:only-of-type {\n",
       "        vertical-align: middle;\n",
       "    }\n",
       "\n",
       "    .dataframe tbody tr th {\n",
       "        vertical-align: top;\n",
       "    }\n",
       "\n",
       "    .dataframe thead tr th {\n",
       "        text-align: left;\n",
       "    }\n",
       "</style>\n",
       "<table border=\"1\" class=\"dataframe\">\n",
       "  <thead>\n",
       "    <tr>\n",
       "      <th></th>\n",
       "      <th>mistake_count</th>\n",
       "      <th>sentence_count</th>\n",
       "      <th>noun</th>\n",
       "      <th>verb</th>\n",
       "      <th>adj</th>\n",
       "      <th>punct</th>\n",
       "      <th>adv</th>\n",
       "      <th>pron</th>\n",
       "      <th>ner_count</th>\n",
       "    </tr>\n",
       "  </thead>\n",
       "  <tbody>\n",
       "    <tr>\n",
       "      <th>count</th>\n",
       "      <td>12977.000000</td>\n",
       "      <td>12977.000000</td>\n",
       "      <td>12977.000000</td>\n",
       "      <td>12977.000000</td>\n",
       "      <td>12977.000000</td>\n",
       "      <td>12977.000000</td>\n",
       "      <td>12977.000000</td>\n",
       "      <td>12977.000000</td>\n",
       "      <td>12977.000000</td>\n",
       "    </tr>\n",
       "    <tr>\n",
       "      <th>mean</th>\n",
       "      <td>0.080925</td>\n",
       "      <td>0.019497</td>\n",
       "      <td>0.165837</td>\n",
       "      <td>0.180040</td>\n",
       "      <td>0.165137</td>\n",
       "      <td>0.112212</td>\n",
       "      <td>0.140791</td>\n",
       "      <td>0.131064</td>\n",
       "      <td>0.077915</td>\n",
       "    </tr>\n",
       "    <tr>\n",
       "      <th>std</th>\n",
       "      <td>0.085082</td>\n",
       "      <td>0.018397</td>\n",
       "      <td>0.129022</td>\n",
       "      <td>0.152002</td>\n",
       "      <td>0.144521</td>\n",
       "      <td>0.099937</td>\n",
       "      <td>0.136848</td>\n",
       "      <td>0.129034</td>\n",
       "      <td>0.083805</td>\n",
       "    </tr>\n",
       "    <tr>\n",
       "      <th>min</th>\n",
       "      <td>0.000000</td>\n",
       "      <td>0.000000</td>\n",
       "      <td>0.000000</td>\n",
       "      <td>0.000000</td>\n",
       "      <td>0.000000</td>\n",
       "      <td>0.000000</td>\n",
       "      <td>0.000000</td>\n",
       "      <td>0.000000</td>\n",
       "      <td>0.000000</td>\n",
       "    </tr>\n",
       "    <tr>\n",
       "      <th>25%</th>\n",
       "      <td>0.025000</td>\n",
       "      <td>0.007788</td>\n",
       "      <td>0.071970</td>\n",
       "      <td>0.076087</td>\n",
       "      <td>0.058140</td>\n",
       "      <td>0.042254</td>\n",
       "      <td>0.044944</td>\n",
       "      <td>0.040359</td>\n",
       "      <td>0.014925</td>\n",
       "    </tr>\n",
       "    <tr>\n",
       "      <th>50%</th>\n",
       "      <td>0.050000</td>\n",
       "      <td>0.014019</td>\n",
       "      <td>0.125000</td>\n",
       "      <td>0.125000</td>\n",
       "      <td>0.127907</td>\n",
       "      <td>0.084507</td>\n",
       "      <td>0.101124</td>\n",
       "      <td>0.085202</td>\n",
       "      <td>0.059701</td>\n",
       "    </tr>\n",
       "    <tr>\n",
       "      <th>75%</th>\n",
       "      <td>0.108333</td>\n",
       "      <td>0.026480</td>\n",
       "      <td>0.227273</td>\n",
       "      <td>0.255435</td>\n",
       "      <td>0.220930</td>\n",
       "      <td>0.150235</td>\n",
       "      <td>0.191011</td>\n",
       "      <td>0.183857</td>\n",
       "      <td>0.104478</td>\n",
       "    </tr>\n",
       "    <tr>\n",
       "      <th>max</th>\n",
       "      <td>1.000000</td>\n",
       "      <td>1.000000</td>\n",
       "      <td>1.000000</td>\n",
       "      <td>1.000000</td>\n",
       "      <td>1.000000</td>\n",
       "      <td>1.000000</td>\n",
       "      <td>1.000000</td>\n",
       "      <td>1.000000</td>\n",
       "      <td>1.000000</td>\n",
       "    </tr>\n",
       "  </tbody>\n",
       "</table>\n",
       "</div>"
      ],
      "text/plain": [
       "      mistake_count sentence_count          noun          verb           adj  \\\n",
       "count  12977.000000   12977.000000  12977.000000  12977.000000  12977.000000   \n",
       "mean       0.080925       0.019497      0.165837      0.180040      0.165137   \n",
       "std        0.085082       0.018397      0.129022      0.152002      0.144521   \n",
       "min        0.000000       0.000000      0.000000      0.000000      0.000000   \n",
       "25%        0.025000       0.007788      0.071970      0.076087      0.058140   \n",
       "50%        0.050000       0.014019      0.125000      0.125000      0.127907   \n",
       "75%        0.108333       0.026480      0.227273      0.255435      0.220930   \n",
       "max        1.000000       1.000000      1.000000      1.000000      1.000000   \n",
       "\n",
       "              punct           adv          pron     ner_count  \n",
       "count  12977.000000  12977.000000  12977.000000  12977.000000  \n",
       "mean       0.112212      0.140791      0.131064      0.077915  \n",
       "std        0.099937      0.136848      0.129034      0.083805  \n",
       "min        0.000000      0.000000      0.000000      0.000000  \n",
       "25%        0.042254      0.044944      0.040359      0.014925  \n",
       "50%        0.084507      0.101124      0.085202      0.059701  \n",
       "75%        0.150235      0.191011      0.183857      0.104478  \n",
       "max        1.000000      1.000000      1.000000      1.000000  "
      ]
     },
     "execution_count": 19,
     "metadata": {},
     "output_type": "execute_result"
    }
   ],
   "source": [
    "feat_minmax.describe()"
   ]
  },
  {
   "cell_type": "code",
   "execution_count": 20,
   "id": "a617e46c",
   "metadata": {},
   "outputs": [],
   "source": [
    "import pickle\n",
    "pickle.dump(minmax, open('minmax_scalar.pickle','wb'))"
   ]
  },
  {
   "cell_type": "code",
   "execution_count": 21,
   "id": "29e19315",
   "metadata": {},
   "outputs": [],
   "source": [
    "from sklearn.model_selection import train_test_split"
   ]
  },
  {
   "cell_type": "code",
   "execution_count": 22,
   "id": "e86ef8bd",
   "metadata": {},
   "outputs": [],
   "source": [
    "x_train,x_test,y_train,y_test=train_test_split(feat_minmax,target,test_size=0.3)"
   ]
  },
  {
   "cell_type": "code",
   "execution_count": 24,
   "id": "af5776bb",
   "metadata": {},
   "outputs": [],
   "source": [
    "# Import the model we are using\n",
    "from sklearn.ensemble import RandomForestClassifier\n",
    "\n",
    "\n",
    "# Instantiate model with 1000 decision trees\n",
    "model = RandomForestClassifier(n_estimators = 1000, random_state = 42)"
   ]
  },
  {
   "cell_type": "code",
   "execution_count": 25,
   "id": "22ecd15a",
   "metadata": {},
   "outputs": [
    {
     "name": "stderr",
     "output_type": "stream",
     "text": [
      "C:\\Users\\sakin\\AppData\\Roaming\\Python\\Python39\\site-packages\\sklearn\\utils\\validation.py:1675: FutureWarning: Feature names only support names that are all strings. Got feature names with dtypes: ['tuple']. An error will be raised in 1.2.\n",
      "  warnings.warn(\n"
     ]
    },
    {
     "name": "stdout",
     "output_type": "stream",
     "text": [
      "Processing time: 0:00:14.306798\n"
     ]
    }
   ],
   "source": [
    "t0 = datetime.now()\n",
    "model.fit(x_train,y_train)\n",
    "\n",
    "t1 = datetime.now()\n",
    "print('Processing time: {}'.format(t1 - t0)) "
   ]
  },
  {
   "cell_type": "code",
   "execution_count": 26,
   "id": "c7f3a1b6",
   "metadata": {},
   "outputs": [
    {
     "name": "stderr",
     "output_type": "stream",
     "text": [
      "C:\\Users\\sakin\\AppData\\Roaming\\Python\\Python39\\site-packages\\sklearn\\utils\\validation.py:1675: FutureWarning: Feature names only support names that are all strings. Got feature names with dtypes: ['tuple']. An error will be raised in 1.2.\n",
      "  warnings.warn(\n"
     ]
    },
    {
     "data": {
      "text/plain": [
       "0.46147919876733434"
      ]
     },
     "execution_count": 26,
     "metadata": {},
     "output_type": "execute_result"
    }
   ],
   "source": [
    "model.score(x_test,y_test)"
   ]
  },
  {
   "cell_type": "code",
   "execution_count": 31,
   "id": "74cc652f",
   "metadata": {},
   "outputs": [],
   "source": [
    "with open('RF_scaled_model.pickle','wb') as f:\n",
    "    pickle.dump(model,f)"
   ]
  },
  {
   "cell_type": "code",
   "execution_count": 29,
   "id": "f7b8be21",
   "metadata": {},
   "outputs": [
    {
     "name": "stderr",
     "output_type": "stream",
     "text": [
      "C:\\Users\\sakin\\AppData\\Roaming\\Python\\Python39\\site-packages\\sklearn\\utils\\validation.py:1675: FutureWarning: Feature names only support names that are all strings. Got feature names with dtypes: ['tuple']. An error will be raised in 1.2.\n",
      "  warnings.warn(\n"
     ]
    },
    {
     "name": "stdout",
     "output_type": "stream",
     "text": [
      "Processing time: 0:00:14.089886\n"
     ]
    }
   ],
   "source": [
    "model2 = RandomForestClassifier(n_estimators = 1000)\n",
    "t0 = datetime.now()\n",
    "model2.fit(x_train,y_train)\n",
    "\n",
    "t1 = datetime.now()\n",
    "print('Processing time: {}'.format(t1 - t0)) "
   ]
  },
  {
   "cell_type": "code",
   "execution_count": 30,
   "id": "f438c065",
   "metadata": {},
   "outputs": [
    {
     "name": "stderr",
     "output_type": "stream",
     "text": [
      "C:\\Users\\sakin\\AppData\\Roaming\\Python\\Python39\\site-packages\\sklearn\\utils\\validation.py:1675: FutureWarning: Feature names only support names that are all strings. Got feature names with dtypes: ['tuple']. An error will be raised in 1.2.\n",
      "  warnings.warn(\n"
     ]
    },
    {
     "data": {
      "text/plain": [
       "0.46147919876733434"
      ]
     },
     "execution_count": 30,
     "metadata": {},
     "output_type": "execute_result"
    }
   ],
   "source": [
    "model.score(x_test,y_test)"
   ]
  },
  {
   "cell_type": "code",
   "execution_count": null,
   "id": "9c347993",
   "metadata": {},
   "outputs": [],
   "source": []
  }
 ],
 "metadata": {
  "kernelspec": {
   "display_name": "Python 3 (ipykernel)",
   "language": "python",
   "name": "python3"
  },
  "language_info": {
   "codemirror_mode": {
    "name": "ipython",
    "version": 3
   },
   "file_extension": ".py",
   "mimetype": "text/x-python",
   "name": "python",
   "nbconvert_exporter": "python",
   "pygments_lexer": "ipython3",
   "version": "3.9.2"
  }
 },
 "nbformat": 4,
 "nbformat_minor": 5
}
